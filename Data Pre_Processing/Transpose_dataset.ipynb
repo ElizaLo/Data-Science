{
 "cells": [
  {
   "cell_type": "markdown",
   "source": [
    "# Transpose Original Dataset "
   ],
   "metadata": {}
  },
  {
   "cell_type": "code",
   "execution_count": null,
   "source": [
    "!pip install awswrangler"
   ],
   "outputs": [],
   "metadata": {}
  },
  {
   "cell_type": "code",
   "execution_count": null,
   "source": [
    "import awswrangler as wr\n",
    "import boto3\n",
    "from sagemaker import get_execution_role\n",
    "import pandas as pd\n",
    "import numpy as np"
   ],
   "outputs": [],
   "metadata": {}
  },
  {
   "cell_type": "code",
   "execution_count": null,
   "source": [
    "import warnings\n",
    "\n",
    "warnings.simplefilter('ignore')"
   ],
   "outputs": [],
   "metadata": {}
  },
  {
   "cell_type": "code",
   "execution_count": null,
   "source": [
    "role = get_execution_role()\n",
    "bucket='...'\n",
    "data_key = '...csv' \n",
    "data_location = 's3://{}/{}'.format(bucket, data_key)"
   ],
   "outputs": [],
   "metadata": {}
  },
  {
   "cell_type": "code",
   "execution_count": null,
   "source": [
    "df = pd.DataFrame(pd.read_csv(data_location))\n",
    "df = df[['...']]\n",
    "df = df.rename({'Keyword': 'Date'}, axis = 1)\n",
    "df = df.transpose() \n",
    "new_header = df.iloc[0] # Grab the first row for the header\n",
    "df = df[1:] # Take the data less the header row\n",
    "df.columns = new_header # Set the header row as the df header\n",
    "\n",
    "# Adding rows\n",
    "df = df.append(pd.Series(name='2022'))\n",
    "df = df.append(pd.Series(name='2023'))\n",
    "df = df.append(pd.Series(name='2024'))\n",
    "df = df.append(pd.Series(name='2025'))"
   ],
   "outputs": [],
   "metadata": {}
  },
  {
   "cell_type": "code",
   "execution_count": null,
   "source": [
    "df.index = pd.to_datetime(df.index.astype(str))"
   ],
   "outputs": [],
   "metadata": {}
  },
  {
   "cell_type": "code",
   "execution_count": null,
   "source": [
    "df.columns[:]"
   ],
   "outputs": [],
   "metadata": {}
  },
  {
   "cell_type": "code",
   "execution_count": null,
   "source": [
    "for column in df.columns[:]:\n",
    "    df[column].astype(float)"
   ],
   "outputs": [],
   "metadata": {}
  },
  {
   "cell_type": "code",
   "execution_count": null,
   "source": [
    "df"
   ],
   "outputs": [],
   "metadata": {}
  },
  {
   "cell_type": "code",
   "execution_count": null,
   "source": [
    "wr.s3.to_csv(\n",
    "    df=df,\n",
    "    path='s3://ds-dataset/Penetration_Prediction/Penetration_2021/Penetration_2021_tsformat.csv'\n",
    ")"
   ],
   "outputs": [],
   "metadata": {}
  },
  {
   "cell_type": "markdown",
   "source": [
    "# \n",
    "--------------------------------\n",
    "\n",
    "# Dataset with curve type"
   ],
   "metadata": {}
  },
  {
   "cell_type": "code",
   "execution_count": null,
   "source": [
    "role = get_execution_role()\n",
    "bucket='...'\n",
    "data_key = '...csv' \n",
    "data_location = 's3://{}/{}'.format(bucket, data_key)"
   ],
   "outputs": [],
   "metadata": {}
  },
  {
   "cell_type": "code",
   "execution_count": null,
   "source": [
    "df = pd.DataFrame(pd.read_csv(data_location))"
   ],
   "outputs": [],
   "metadata": {}
  },
  {
   "cell_type": "code",
   "execution_count": null,
   "source": [
    "df.loc[df['curve'] == 'exp_model_1']"
   ],
   "outputs": [],
   "metadata": {}
  },
  {
   "cell_type": "code",
   "execution_count": null,
   "source": [
    "df = df.drop(columns = ['Unnamed: 0'])\n",
    "df = df.rename({'Keyword': 'Date'}, axis = 1)\n",
    "# Adding columns\n",
    "df.insert(12, \"2022\", '0.0')\n",
    "df.insert(13, \"2023\", '0.0')\n",
    "df.insert(14, \"2024\", '0.0')\n",
    "df.insert(15, \"2025\", '0.0')\n",
    "\n",
    "df = df.transpose() \n",
    "new_header = df.iloc[0] # Grab the first row for the header\n",
    "df = df[1:] # Take the data less the header row\n",
    "df.columns = new_header # Set the header row as the df header"
   ],
   "outputs": [],
   "metadata": {}
  },
  {
   "cell_type": "code",
   "execution_count": null,
   "source": [
    "df"
   ],
   "outputs": [],
   "metadata": {}
  },
  {
   "cell_type": "code",
   "execution_count": null,
   "source": [
    "wr.s3.to_csv(\n",
    "    df=df,\n",
    "    path='s3://...csv'\n",
    ")"
   ],
   "outputs": [],
   "metadata": {}
  },
  {
   "cell_type": "code",
   "execution_count": null,
   "source": [],
   "outputs": [],
   "metadata": {}
  }
 ],
 "metadata": {
  "instance_type": "ml.t3.medium",
  "kernelspec": {
   "display_name": "Python 3 (Data Science)",
   "language": "python",
   "name": "python3__SAGEMAKER_INTERNAL__arn:aws:sagemaker:us-east-1:081325390199:image/datascience-1.0"
  },
  "language_info": {
   "codemirror_mode": {
    "name": "ipython",
    "version": 3
   },
   "file_extension": ".py",
   "mimetype": "text/x-python",
   "name": "python",
   "nbconvert_exporter": "python",
   "pygments_lexer": "ipython3",
   "version": "3.7.10"
  }
 },
 "nbformat": 4,
 "nbformat_minor": 4
}
