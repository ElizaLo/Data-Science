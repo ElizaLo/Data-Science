{
 "cells": [
  {
   "cell_type": "markdown",
   "source": [
    "# Clustering based on **Curve fitting**\n",
    "\n",
    "Data (chart type) clustering based on curve fitting. Fit different functions:\n",
    "\n",
    "- first- to six-order **_polynomial_**\n",
    "- **_quadratic_**\n",
    "- **_square root_**\n",
    "- **_exponential_**\n",
    "- **_logarithmic_**\n",
    "- **_reciprocal 1/x_**\n",
    "- **_sinus_**\n",
    "- **_cosine_**\n",
    "- **_Gaussian_**"
   ],
   "metadata": {}
  },
  {
   "cell_type": "code",
   "execution_count": null,
   "source": [
    "import boto3\n",
    "from sagemaker import get_execution_role\n",
    "import pandas as pd\n",
    "import numpy as np\n",
    "from scipy.optimize import curve_fit\n",
    "\n",
    "%matplotlib inline\n",
    "import matplotlib.pyplot as plt"
   ],
   "outputs": [],
   "metadata": {}
  },
  {
   "cell_type": "code",
   "execution_count": null,
   "source": [
    "import warnings\n",
    "\n",
    "warnings.simplefilter('ignore')"
   ],
   "outputs": [],
   "metadata": {}
  },
  {
   "cell_type": "markdown",
   "source": [
    "Objectives functions"
   ],
   "metadata": {}
  },
  {
   "cell_type": "code",
   "execution_count": null,
   "source": [
    "def obj_quadratic(x, a):\n",
    "    return a * (x**2)\n",
    "\n",
    "def obj_quad(x, a, b):\n",
    "    return -(a * x + b*x*x)\n",
    "\n",
    "def obj_square(x, a):\n",
    "    return a * np.sqrt(x)\n",
    "\n",
    "def obj_exponential(x, a, b, c):\n",
    "    return a * np.exp(-b * x) + c\n",
    "\n",
    "def obj_log(x, a, b, c):\n",
    "    return a * np.log(b * x) + c\n",
    "\n",
    "# reciprocal 1 / x function\n",
    "def obj_divide(x, a, b, c, d):\n",
    "    return c * (1 / (b * x - d)) \n",
    "\n",
    "def obj_sin(x, a, b, c, d):\n",
    "    return a * np.sin(b - x) + c * x**2 + d\n",
    "\n",
    "def obj_cos(x, Amp, n, b):\n",
    "    return Amp*(np.abs(np.cos(x)))**n + b\n",
    "\n",
    "def obj_gaus(x, a, x0, sigma):\n",
    "    n = len(x)\n",
    "    mean = sum(x * y) / n  # note this correction\n",
    "    sigma = sum(y * (x - mean)**2) / n # note this correction\n",
    "    return a * np.exp(-(x - x0)**2 / (2 * sigma**2))"
   ],
   "outputs": [],
   "metadata": {}
  },
  {
   "cell_type": "markdown",
   "source": [
    "Curve fitting functions"
   ],
   "metadata": {}
  },
  {
   "cell_type": "code",
   "execution_count": null,
   "source": [
    "def fit_quadratic(x, y):\n",
    "    try: \n",
    "        popt, _ = curve_fit(obj_quadratic, x[:-1], y)\n",
    "        # summarize the parameter values\n",
    "        a = popt\n",
    "        # define a sequence of inputs between the smallest and largest known inputs\n",
    "        x_line = np.arange(min(x), max(x), 1)\n",
    "        # calculate the output for the range\n",
    "        y_line = obj_quadratic(x_line, a)\n",
    "    except:\n",
    "        y_line = 100\n",
    "    return y_line\n",
    "\n",
    "def fit_quad(x, y):\n",
    "    try:\n",
    "        popt, _ = curve_fit(obj_quad, x[:-1], y)\n",
    "        a, b = popt\n",
    "        x_line = np.arange(min(x), max(x), 1)\n",
    "        y_line = obj_quad(x_line, a, b)\n",
    "    except:\n",
    "        y_line = 100\n",
    "    return y_line\n",
    "\n",
    "def fit_square(x, y):\n",
    "    try:\n",
    "        popt, _ = curve_fit(obj_square, x[:-1], y)\n",
    "        a = popt\n",
    "        x_line = np.arange(min(x), max(x), 1)\n",
    "        y_line = obj_square(x_line, a)\n",
    "    except:\n",
    "        y_line = 100\n",
    "    return y_line\n",
    "\n",
    "def fit_exponential(x, y):\n",
    "    try:\n",
    "        popt, _ = curve_fit(obj_exponential, x[:-1], y)\n",
    "        a, b, c = popt\n",
    "        x_line = np.arange(min(x), max(x), 1)\n",
    "        y_line = obj_exponential(x_line, a, b, c)\n",
    "    except:\n",
    "        y_line = 100\n",
    "    return y_line\n",
    "\n",
    "def fit_log(x, y):\n",
    "    try:\n",
    "        popt, _ = curve_fit(obj_log, x[:-1], y)\n",
    "        a, b, c = popt\n",
    "        x_line = np.arange(min(x), max(x), 1)\n",
    "        y_line = obj_log(x_line, a, b, c)\n",
    "    except:\n",
    "        y_line = 100\n",
    "    return y_line\n",
    "\n",
    "def fit_divide(x, y):\n",
    "    try:\n",
    "        popt, _ = curve_fit(obj_divide, x[:-1], y)\n",
    "        a, b, c, d = popt\n",
    "        x_line = np.arange(min(x), max(x), 1)\n",
    "        y_line = obj_divide(x_line, a, b, c, d)\n",
    "    except:\n",
    "        y_line = 100\n",
    "    return y_line\n",
    "\n",
    "def fit_sin(x, y):\n",
    "    try:\n",
    "        popt, _ = curve_fit(obj_sin, x[:-1], y)\n",
    "        a, b, c, d = popt\n",
    "        x_line = np.arange(min(x), max(x), 1)\n",
    "        y_line = obj_sin(x_line, a, b, c, d)\n",
    "    except:\n",
    "        y_line = 100\n",
    "    return y_line\n",
    "\n",
    "def fit_cos(x, y):\n",
    "    try:\n",
    "        popt, _ = curve_fit(obj_cos, x[:-1], y)\n",
    "        Amp, n, b = popt\n",
    "        x_line = np.arange(min(x), max(x), 1)\n",
    "        y_line = obj_cos(x_line, Amp, n, b)\n",
    "    except:\n",
    "        y_line = 100\n",
    "    return y_line\n",
    "\n",
    "def fit_gaus(x, y):\n",
    "    try:\n",
    "        popt, _ = curve_fit(obj_gaus, x[:-1], y)\n",
    "        #popt, _ = curve_fit(gaus, x, y, p0=[1,mean,sigma])\n",
    "        a, x0, sigma = popt\n",
    "        x_line = np.arange(min(x), max(x), 1)\n",
    "        y_line = obj_gaus(x_line, a, x0, sigma)\n",
    "    except:\n",
    "        y_line = 100\n",
    "    return y_line"
   ],
   "outputs": [],
   "metadata": {}
  },
  {
   "cell_type": "markdown",
   "source": [
    "## Residuals\n",
    "\n",
    "> These deviations are called **residuals** when the calculations are performed over the data sample that was used for estimation.\n",
    "\n",
    "### **R-squared**\n",
    "\n",
    "> for **_Linear regression_** only"
   ],
   "metadata": {}
  },
  {
   "cell_type": "code",
   "execution_count": null,
   "source": [
    "def r_squared(x, y, degree):\n",
    "    results = {}\n",
    "    coeffs = np.polyfit(x, y, degree)\n",
    "    # r-squared\n",
    "    p = np.poly1d(coeffs)\n",
    "    # fit values, and mean\n",
    "    yhat = p(x)                      # or [p(z) for z in x]\n",
    "    ybar = np.sum(y)/len(y)          # or sum(y)/len(y)\n",
    "    ssreg = np.sum((yhat-ybar)**2)   # or sum([ (yihat - ybar)**2 for yihat in yhat])\n",
    "    sstot = np.sum((y - ybar)**2)    # or sum([ (yi - ybar)**2 for yi in y])\n",
    "    results['r_squared'] = ssreg / sstot\n",
    "\n",
    "    return results"
   ],
   "outputs": [],
   "metadata": {}
  },
  {
   "cell_type": "markdown",
   "source": [
    "### Define function to calculate **adjusted R-squared** \n",
    "> for **_Linear regression_** only"
   ],
   "metadata": {}
  },
  {
   "cell_type": "code",
   "execution_count": null,
   "source": [
    "def adj_R(x, y, degree):\n",
    "    results = {}\n",
    "    coeffs = np.polyfit(x, y, degree)\n",
    "    p = np.poly1d(coeffs)\n",
    "    yhat = p(x)\n",
    "    ybar = np.sum(y)/len(y)\n",
    "    ssreg = np.sum((yhat-ybar)**2)\n",
    "    sstot = np.sum((y - ybar)**2)\n",
    "    results['adjusted_r_squared'] = 1- (((1-(ssreg/sstot))*(len(y)-1))/(len(y)-degree-1))\n",
    "\n",
    "    return results"
   ],
   "outputs": [],
   "metadata": {}
  },
  {
   "cell_type": "code",
   "execution_count": null,
   "source": [
    "print(adj_R(x, y, 5))\n",
    "print(r_squared(x, y, 5))\n",
    "#adjR(x, y, quadratic_model)"
   ],
   "outputs": [],
   "metadata": {}
  },
  {
   "cell_type": "markdown",
   "source": [
    "### Root-Mean-Square Deviation (RMSD) or Root-Mean-Square Error (RMSE)"
   ],
   "metadata": {}
  },
  {
   "cell_type": "code",
   "execution_count": null,
   "source": [
    "def rmse(actual, pred): \n",
    "    actual, pred = np.array(actual), np.array(pred)\n",
    "    return np.sqrt(np.square(np.subtract(actual,pred)).mean())"
   ],
   "outputs": [],
   "metadata": {}
  },
  {
   "cell_type": "markdown",
   "source": [
    "### Standart Error of the Mean"
   ],
   "metadata": {}
  },
  {
   "cell_type": "code",
   "execution_count": null,
   "source": [
    "from scipy.stats import sem\n",
    "\n",
    "#define dataset \n",
    "data = []\n",
    "\n",
    "#calculate standard error of the mean \n",
    "sem(data)"
   ],
   "outputs": [],
   "metadata": {}
  },
  {
   "cell_type": "markdown",
   "source": [
    "### Mean Squared Error (MSE)"
   ],
   "metadata": {}
  },
  {
   "cell_type": "code",
   "execution_count": null,
   "source": [
    "def mse(actual, pred): \n",
    "    actual, pred = np.array(actual), np.array(pred)\n",
    "    return np.square(np.subtract(actual,pred)).mean() "
   ],
   "outputs": [],
   "metadata": {}
  },
  {
   "cell_type": "markdown",
   "source": [
    "## Clustering based on **Curve fitting**\n",
    "\n",
    "1. Curve fitting\n",
    "2. Calculating Root-Mean-Square Error (RMSE) for each function (polynomial, quadratic, square root, etc.)"
   ],
   "metadata": {}
  },
  {
   "cell_type": "code",
   "execution_count": null,
   "source": [
    "def curve_fitting(x, y, index):\n",
    "    \n",
    "    '''\n",
    "    Parameters:\n",
    "        x (list): input variable\n",
    "        y (list): output variable\n",
    "        index (int): row index\n",
    "    \n",
    "    Returns:\n",
    "        df_curve: new dataframe with all values for \n",
    "    '''\n",
    "    \n",
    "    \n",
    "    # curve fitting with all types of models and calculate Root-Mean-Square Error (RMSE)\n",
    "    \n",
    "    df_curve.at[index, 'model1'] = rmse(y, np.polyval(np.polyfit(x[:-1], y, 1), x[:-1])).astype(float) # first-order polynomial\n",
    "    df_curve.at[index, 'model2'] = rmse(y, np.polyval(np.polyfit(x[:-1], y, 2), x[:-1])).astype(float) # second-order polynomial\n",
    "    df_curve.at[index, 'model3'] = rmse(y, np.polyval(np.polyfit(x[:-1], y, 3), x[:-1])).astype(float) # third-order polynomial\n",
    "    df_curve.at[index, 'model4'] = rmse(y, np.polyval(np.polyfit(x[:-1], y, 4), x[:-1])).astype(float) # fourth-order polynomial\n",
    "    df_curve.at[index, 'model5'] = rmse(y, np.polyval(np.polyfit(x[:-1], y, 5), x[:-1])).astype(float) # fifth-order polynomial\n",
    "    df_curve.at[index, 'model6'] = rmse(y, np.polyval(np.polyfit(x[:-1], y, 6), x[:-1])).astype(float) # six-order polynomial\n",
    "    \n",
    "    df_curve.at[index, 'quadratic_model'] = rmse(y, fit_quadratic(x, y)).astype(float) # quadratic\n",
    "    df_curve.at[index, 'quad_model'] = rmse(y, fit_quad(x, y)).astype(float) # quadratic\n",
    "    df_curve.at[index, 'square_model'] = rmse(y, fit_square(x, y)).astype(float) # square root\n",
    "    \n",
    "    #df_curve.at[index, 'exp_model'] = rmse(y, curve_fit(lambda t,a,b: a * np.exp(b * t),  x[:-1],  y)) # exponential\n",
    "    df_curve.at[index, 'exp_model_1'] = rmse(y, fit_exponential(x, y)).astype(float) # exponential\n",
    "    \n",
    "    #df_curve.at[index, 'log_model'] = rmse(y, curve_fit(lambda t,a,b: a + b * np.log(t),  x[:-1],  y)) # logarithmic\n",
    "    df_curve.at[index, 'log_model_1'] = rmse(y, fit_log(x, y)).astype(float) # logarithmic\n",
    "    \n",
    "    df_curve.at[index, 'div_model'] = rmse(y, fit_divide(x, y)).astype(float) # reciprocal 1/x\n",
    "    \n",
    "    df_curve.at[index, 'sin_model'] = rmse(y, fit_sin(x,y)).astype(float) # sinus\n",
    "    df_curve.at[index, 'cos_model'] = rmse(y, fit_cos(x, y)).astype(float)# cosine\n",
    "    \n",
    "    df_curve.at[index, 'gaus_model'] = rmse(y, fit_gaus(x, y)).astype(float) # Gaussian \n",
    "    \n",
    "    \n",
    "    return df_curve "
   ],
   "outputs": [],
   "metadata": {}
  },
  {
   "cell_type": "markdown",
   "source": [
    "3. Find a curve that fit the best to each chart (finding the lowest RMSE value)"
   ],
   "metadata": {}
  },
  {
   "cell_type": "code",
   "execution_count": null,
   "source": [
    "def min_value(df):\n",
    "    df_curve.apply(pd.to_numeric)\n",
    "    df_curve['curve'] = df_curve.idxmin(axis=1)\n",
    "    return df_curve"
   ],
   "outputs": [],
   "metadata": {}
  },
  {
   "cell_type": "markdown",
   "source": [
    "# \n",
    "\n",
    "--------------------------"
   ],
   "metadata": {}
  },
  {
   "cell_type": "code",
   "execution_count": null,
   "source": [
    "role = get_execution_role()\n",
    "bucket='path-to/'\n",
    "data_key = 'file.csv' \n",
    "data_location = 's3://{}/{}'.format(bucket, data_key)"
   ],
   "outputs": [],
   "metadata": {}
  },
  {
   "cell_type": "code",
   "execution_count": null,
   "source": [
    "df = pd.DataFrame(pd.read_csv(data_location))\n",
    "df = df[['column_name', 'column_name']]\n",
    "\n",
    "#print(df.shape)\n",
    "#df.head(2)"
   ],
   "outputs": [],
   "metadata": {}
  },
  {
   "cell_type": "code",
   "execution_count": null,
   "source": [
    "# choose the input and output variables\n",
    "x = df.columns[1:].astype(int).tolist()\n",
    "#df_curve = df.copy(deep=True)\n",
    "\n",
    "df_curve = pd.DataFrame()\n",
    "\n",
    "for index, row in df.iterrows():\n",
    "    y = df.loc[index, df.columns[1:-1]].astype(float).tolist()\n",
    "    curve_fitting(x, y, index)\n",
    "    \n",
    "min_value(df_curve)"
   ],
   "outputs": [],
   "metadata": {}
  },
  {
   "cell_type": "code",
   "execution_count": null,
   "source": [
    "df_final = pd.DataFrame()\n",
    "df_final = df_curve['curve']\n",
    "\n",
    "df.reset_index(drop=True, inplace=True)\n",
    "df_final.reset_index(drop=True, inplace=True)\n",
    "\n",
    "df_new = pd.concat([df, df_final], axis=1)"
   ],
   "outputs": [],
   "metadata": {}
  },
  {
   "cell_type": "code",
   "execution_count": null,
   "source": [
    "df_new.head(5)"
   ],
   "outputs": [],
   "metadata": {}
  },
  {
   "cell_type": "code",
   "execution_count": null,
   "source": [
    "df_new['curve'].value_counts().plot.bar(figsize=(16, 9))"
   ],
   "outputs": [],
   "metadata": {}
  },
  {
   "cell_type": "code",
   "execution_count": null,
   "source": [
    "print(df_new['curve'].value_counts())"
   ],
   "outputs": [],
   "metadata": {}
  },
  {
   "cell_type": "markdown",
   "source": [
    "# \n",
    "____________________________________________"
   ],
   "metadata": {}
  },
  {
   "cell_type": "markdown",
   "source": [
    "# Curve fitting for a single item"
   ],
   "metadata": {}
  },
  {
   "cell_type": "code",
   "execution_count": null,
   "source": [
    "# choose the input and output variables\n",
    "x = df.columns[1:-1].astype(int).tolist()\n",
    "y = df.loc[2, df.columns[1:-1]].astype(float).tolist()"
   ],
   "outputs": [],
   "metadata": {}
  },
  {
   "cell_type": "markdown",
   "source": [
    "## Logarithmic function fitting"
   ],
   "metadata": {}
  },
  {
   "cell_type": "code",
   "execution_count": null,
   "source": [
    "log_model = np.poly1d(np.polyfit(x, np.log(y), 1, w=np.sqrt(y)))\n",
    "\n",
    "#create scatterplot\n",
    "plt.figure(figsize=(14,7))\n",
    "plt.scatter(x, y)\n",
    "\n",
    "#add fitted polynomial lines to scatterplot \n",
    "plt.plot(x, log_model(x), color='green', label='1')"
   ],
   "outputs": [],
   "metadata": {}
  },
  {
   "cell_type": "markdown",
   "source": [
    "## Exponential function fitting"
   ],
   "metadata": {}
  },
  {
   "cell_type": "code",
   "execution_count": null,
   "source": [
    "#yn = y + 0.2*np.random.normal(size=len(x))\n",
    "\n",
    "popt, _ = curve_fit(obj_exponential, x, y)\n",
    "# summarize the parameter values\n",
    "a, b, c = popt\n",
    "# define a sequence of inputs between the smallest and largest known inputs\n",
    "x_line = arange(min(x), max(x), 1)\n",
    "# calculate the output for the range\n",
    "y_line = obj_exponential(x_line, a, b, c)\n",
    "\n",
    "# plot input vs output\n",
    "plt.figure(figsize=(14,7))\n",
    "plt.scatter(x, y)\n",
    "# create a line plot for the mapping function\n",
    "plt.plot(x_line, y_line, '--', color='red')\n",
    "plt.legend()\n",
    "plt.show()"
   ],
   "outputs": [],
   "metadata": {}
  },
  {
   "cell_type": "markdown",
   "source": [
    "## Reciprocal 1/x function fitting"
   ],
   "metadata": {}
  },
  {
   "cell_type": "code",
   "execution_count": null,
   "source": [
    "popt, _ = curve_fit(obj_divide, x, y)\n",
    "# summarize the parameter values\n",
    "a, b, c, d = popt\n",
    "# define a sequence of inputs between the smallest and largest known inputs\n",
    "x_line = arange(min(x), max(x), 1)\n",
    "# calculate the output for the range\n",
    "y_line = obj_divide(x_line, a, b, c, d)\n",
    "\n",
    "# plot input vs output\n",
    "plt.figure(figsize=(14,7))\n",
    "plt.scatter(x, y)\n",
    "# create a line plot for the mapping function\n",
    "plt.plot(x_line, y_line, '--', color='red')\n",
    "plt.legend()\n",
    "plt.show()"
   ],
   "outputs": [],
   "metadata": {}
  },
  {
   "cell_type": "markdown",
   "source": [
    "## Square function fitting"
   ],
   "metadata": {}
  },
  {
   "cell_type": "code",
   "execution_count": null,
   "source": [
    "popt, _ = curve_fit(obj_square, x, y)\n",
    "# summarize the parameter values\n",
    "a = popt\n",
    "# define a sequence of inputs between the smallest and largest known inputs\n",
    "x_line = arange(min(x), max(x), 1)\n",
    "# calculate the output for the range\n",
    "y_line = obj_square(x_line, a)\n",
    "\n",
    "# plot input vs output\n",
    "plt.figure(figsize=(14,7))\n",
    "plt.scatter(x, y)\n",
    "# create a line plot for the mapping function\n",
    "plt.plot(x_line, y_line, '--', color='red')\n",
    "plt.legend()\n",
    "plt.show()"
   ],
   "outputs": [],
   "metadata": {}
  },
  {
   "cell_type": "markdown",
   "source": [
    "## Quadratic function fitting"
   ],
   "metadata": {}
  },
  {
   "cell_type": "code",
   "execution_count": null,
   "source": [
    "popt, _ = curve_fit(obj_quadratic, x, y)\n",
    "# summarize the parameter values\n",
    "a = popt\n",
    "# define a sequence of inputs between the smallest and largest known inputs\n",
    "x_line = arange(min(x), max(x), 1)\n",
    "# calculate the output for the range\n",
    "y_line = obj_quadratic(x_line, a)\n",
    "\n",
    "# plot input vs output\n",
    "plt.figure(figsize=(14,7))\n",
    "plt.scatter(x, y)\n",
    "# create a line plot for the mapping function\n",
    "plt.plot(x_line, y_line, '--', color='red')\n",
    "plt.legend()\n",
    "plt.show()"
   ],
   "outputs": [],
   "metadata": {}
  },
  {
   "cell_type": "markdown",
   "source": [
    "## Polynomial function fitting"
   ],
   "metadata": {}
  },
  {
   "cell_type": "code",
   "execution_count": null,
   "source": [
    "# define the true objective function\n",
    "def objective(x, a, b, c, d, e, f):\n",
    "    return (a * x) + (b * x**2) + (c * x**3) + (d * x**4) + (e * x**5) + f\n",
    " \n",
    "# curve fit\n",
    "popt, _ = curve_fit(objective, x, y)\n",
    "# summarize the parameter values\n",
    "a, b, c, d, e, f = popt\n",
    "# define a sequence of inputs between the smallest and largest known inputs\n",
    "x_line = arange(min(x), max(x), 1)\n",
    "# calculate the output for the range\n",
    "y_line = objective(x_line, a, b, c, d, e, f)\n",
    "# plot input vs output\n",
    "plt.figure(figsize=(14,7))\n",
    "plt.scatter(x, y)\n",
    "# create a line plot for the mapping function\n",
    "plt.plot(x_line, y_line, '--', color='red')\n",
    "plt.legend()\n",
    "plt.show()"
   ],
   "outputs": [],
   "metadata": {}
  },
  {
   "cell_type": "markdown",
   "source": [
    "## Sinus function fitting"
   ],
   "metadata": {}
  },
  {
   "cell_type": "code",
   "execution_count": null,
   "source": [
    "# define the true objective function\n",
    "def objective(x, a, b, c, d):\n",
    "\treturn a * np.sin(b - x) + c * x**2 + d\n",
    " \n",
    "# curve fit\n",
    "popt, _ = curve_fit(objective, x, y)\n",
    "# summarize the parameter values\n",
    "a, b, c, d = popt\n",
    "print(popt)\n",
    "# define a sequence of inputs between the smallest and largest known inputs\n",
    "x_line = arange(min(x), max(x), 1)\n",
    "# calculate the output for the range\n",
    "y_line = objective(x_line, a, b, c, d)\n",
    "# plot input vs output\n",
    "plt.figure(figsize=(14,7))\n",
    "plt.scatter(x, y)\n",
    "# create a line plot for the mapping function\n",
    "plt.plot(x_line, y_line, '--', color='red')\n",
    "plt.legend()\n",
    "plt.show()"
   ],
   "outputs": [],
   "metadata": {}
  },
  {
   "cell_type": "markdown",
   "source": [
    "## Polynomial function fitting up to six-order"
   ],
   "metadata": {}
  },
  {
   "cell_type": "code",
   "execution_count": null,
   "source": [
    "#fit polynomial models up to degree 6\n",
    "model1 = np.poly1d(np.polyfit(x, y, 1))\n",
    "model2 = np.poly1d(np.polyfit(x, y, 2))\n",
    "model3 = np.poly1d(np.polyfit(x, y, 3))\n",
    "model4 = np.poly1d(np.polyfit(x, y, 4))\n",
    "model5 = np.poly1d(np.polyfit(x, y, 5))\n",
    "model6 = np.poly1d(np.polyfit(x, y, 6))\n",
    "\n",
    "\n",
    "#create scatterplot\n",
    "plt.figure(figsize=(14,7))\n",
    "plt.scatter(x, y)\n",
    "\n",
    "#add fitted polynomial lines to scatterplot \n",
    "plt.plot(x, model1(x), color='green', label='1')\n",
    "plt.plot(x, model2(x), color='red', label='2')\n",
    "plt.plot(x, model3(x), color='purple', label='3')\n",
    "plt.plot(x, model4(x), color='blue', label='4')\n",
    "plt.plot(x, model5(x), color='orange', label='5')\n",
    "plt.plot(x, model6(x), color='brown', label='6')\n",
    "plt.legend()\n",
    "plt.show()"
   ],
   "outputs": [],
   "metadata": {}
  },
  {
   "cell_type": "markdown",
   "source": [
    "###  Calculate adjusted R-squared for polynomial functions"
   ],
   "metadata": {}
  },
  {
   "cell_type": "code",
   "execution_count": null,
   "source": [
    "#define function to calculate adjusted r-squared\n",
    "def adjR(x, y, degree):\n",
    "    results = {}\n",
    "    coeffs = np.polyfit(x, y, degree)\n",
    "    p = np.poly1d(coeffs)\n",
    "    yhat = p(x)\n",
    "    ybar = np.sum(y)/len(y)\n",
    "    ssreg = np.sum((yhat-ybar)**2)\n",
    "    sstot = np.sum((y - ybar)**2)\n",
    "    results['r_squared'] = 1- (((1-(ssreg/sstot))*(len(y)-1))/(len(y)-degree-1))\n",
    "    print(results)\n",
    "\n",
    "    return results\n",
    "\n",
    "#calculated adjusted R-squared of each model\n",
    "adjR(x, y, 1)\n",
    "adjR(x, y, 2)\n",
    "adjR(x, y, 3)\n",
    "adjR(x, y, 4)\n",
    "adjR(x, y, 5)\n",
    "adjR(x, y, 6)"
   ],
   "outputs": [],
   "metadata": {}
  }
 ],
 "metadata": {
  "instance_type": "ml.t3.medium",
  "kernelspec": {
   "display_name": "Python 3 (Data Science)",
   "language": "python",
   "name": "python3__SAGEMAKER_INTERNAL__arn:aws:sagemaker:us-east-1:081325390199:image/datascience-1.0"
  },
  "language_info": {
   "codemirror_mode": {
    "name": "ipython",
    "version": 3
   },
   "file_extension": ".py",
   "mimetype": "text/x-python",
   "name": "python",
   "nbconvert_exporter": "python",
   "pygments_lexer": "ipython3",
   "version": "3.7.10"
  }
 },
 "nbformat": 4,
 "nbformat_minor": 4
}